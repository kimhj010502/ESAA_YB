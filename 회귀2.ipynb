{
 "cells": [
  {
   "cell_type": "markdown",
   "metadata": {
    "id": "OVjREzxqi3U1"
   },
   "source": [
    "# **1. 규제 선형 회귀 모델/ 회귀 트리**\n",
    "릿지 회귀모델 및 회귀 트리를 이용하여 전복의 나이를 예측해 보세요.\n",
    "\n",
    "전복의 ‘성별’, ‘키’, ‘지름’, ‘높이’, ‘전체무게’, ‘몸통무게’, ‘내장무게’, ‘껍질무게’를 입력하면 ‘껍질의 고리수’를 예측한 뒤 예측된 ‘껍질의 고리수’에 1.5를 더하면 전복의 나이가 됩니다."
   ]
  },
  {
   "cell_type": "code",
   "execution_count": 34,
   "metadata": {
    "id": "AdMN1y-1i_G4"
   },
   "outputs": [],
   "source": [
    "# 기본 모듈 불러오기\n",
    "import numpy as np\n",
    "import pandas as pd\n",
    "\n",
    "import warnings\n",
    "warnings.filterwarnings(action='ignore')"
   ]
  },
  {
   "cell_type": "markdown",
   "metadata": {
    "id": "fK6WkTaUjF_9"
   },
   "source": [
    "### 1) 데이터 불러오기 및 데이터 선택"
   ]
  },
  {
   "cell_type": "code",
   "execution_count": 35,
   "metadata": {
    "id": "npiatc6TjCqM"
   },
   "outputs": [],
   "source": [
    "# 데이터 로드\n",
    "data = pd.read_csv(\"C:/Users/kimhj/Desktop/ESAA/Data/abalone.csv\")\n",
    "\n",
    "# 성별 M은 Male, F는 Female, I는 Infant 이므로 따로 열 만들기\n",
    "for label in \"MFI\":\n",
    "    data[label] = data[\"Sex\"] == label\n",
    "data.drop('Sex', axis=1, inplace=True)\n",
    "\n",
    "# X,y 데이터 선택\n",
    "y = data.Rings.values\n",
    "data.drop('Rings', axis=1, inplace=True)\n",
    "\n",
    "X = data.values.astype(float)"
   ]
  },
  {
   "cell_type": "markdown",
   "metadata": {
    "id": "oRS_pBggjhWe"
   },
   "source": [
    "## 2) train/test 분리\n",
    ": 테스트 셋과 데이터 셋을 7:3 비율로 분리하세요."
   ]
  },
  {
   "cell_type": "code",
   "execution_count": 36,
   "metadata": {
    "id": "MCos735FjRUg"
   },
   "outputs": [],
   "source": [
    "# 필요한 모듈 불러오기\n",
    "from sklearn.model_selection import train_test_split"
   ]
  },
  {
   "cell_type": "code",
   "execution_count": 37,
   "metadata": {
    "id": "c2GBJgtRj0Ke"
   },
   "outputs": [],
   "source": [
    "# train과 test set 분리 (train:test = 7:3 비율로)\n",
    "X_train, X_test, y_train, y_test = train_test_split(X, y, test_size=0.3, random_state=0)"
   ]
  },
  {
   "cell_type": "markdown",
   "metadata": {
    "id": "bOxHN7dsj3xP"
   },
   "source": [
    "## 3) 릿지 모델을 이용한 모델링\n",
    ": 릿지 모델을 이용하여 전복의 나이를 예측해 보고 결과를 평가해 보세요."
   ]
  },
  {
   "cell_type": "markdown",
   "metadata": {
    "id": "SpLjzL0yks5X"
   },
   "source": [
    " 3-1) 릿지모델 생성, 교차검증, 평가에 필요한 모듈을 불러오세요."
   ]
  },
  {
   "cell_type": "code",
   "execution_count": 38,
   "metadata": {
    "id": "rs5OSSjLj226"
   },
   "outputs": [],
   "source": [
    "#필요한 모듈 불러오기\n",
    "from sklearn.linear_model import Ridge\n",
    "from sklearn.model_selection import cross_val_score\n",
    "from sklearn.metrics import mean_squared_error "
   ]
  },
  {
   "cell_type": "markdown",
   "metadata": {
    "id": "-KTiaLjilHXT"
   },
   "source": [
    "3-2) 릿지 모델을 생성하고 훈련하여 MSE와 RMSE를 구하세요. 릿지 모델 생성 시  alpha는 0.3으로 설정합니다. (교차 검증 하지 않습니다.)"
   ]
  },
  {
   "cell_type": "code",
   "execution_count": 39,
   "metadata": {
    "id": "eK37aNO5lOT-"
   },
   "outputs": [
    {
     "name": "stdout",
     "output_type": "stream",
     "text": [
      "예측값:\n",
      " [13.2338535   9.1097756  10.46922045 ...  9.42010051 18.57580883\n",
      " 10.95775586]\n",
      "MSE: 5.013158686100957\n",
      "RMSE: 2.2390084158173584\n"
     ]
    }
   ],
   "source": [
    "#릿지모델 생성 및 훈련\n",
    "ridge = Ridge(alpha=0.3)\n",
    "ridge.fit(X_train, y_train)\n",
    "\n",
    "#예측값 구하기\n",
    "y_preds = ridge.predict(X_test)\n",
    "print('예측값:\\n',y_preds)\n",
    "\n",
    "#MSE와 RMSE구하기\n",
    "mse_scores = mean_squared_error(y_test, y_preds)\n",
    "rmse_scores = np.sqrt(mse_scores)\n",
    "print('MSE:',mse_scores)\n",
    "print('RMSE:',rmse_scores)"
   ]
  },
  {
   "cell_type": "markdown",
   "metadata": {
    "id": "MK2LACYtliyO"
   },
   "source": [
    "3-3) 교차검증을 이용하여 0, 0.1, 1, 10, 100 중  모델 성능이 가장 좋게 나오는 (rmse가 최소가 되는) alpha를 구하세요. "
   ]
  },
  {
   "cell_type": "code",
   "execution_count": 40,
   "metadata": {
    "id": "0Bf_TsDomO4i"
   },
   "outputs": [
    {
     "name": "stdout",
     "output_type": "stream",
     "text": [
      "alpha 0일 때 5 folds의 평균 RMSE: 2.245\n",
      "alpha 0.1일 때 5 folds의 평균 RMSE: 2.237\n",
      "alpha 1일 때 5 folds의 평균 RMSE: 2.230\n",
      "alpha 10일 때 5 folds의 평균 RMSE: 2.337\n",
      "alpha 100일 때 5 folds의 평균 RMSE: 2.621\n"
     ]
    }
   ],
   "source": [
    "# 주어진 alpha\n",
    "alphas=[0, 0.1, 1, 10, 100]\n",
    "\n",
    "#alphas list 값을 반복하면서 alpha에 따른 평균 rmse를 구함\n",
    "for alpha in alphas:\n",
    "    ridge = Ridge(alpha=alpha)\n",
    "    \n",
    "    #cross_val_score를 이용해 5 폴드의 평균 RMSE를 계산\n",
    "    neg_mse_scores = cross_val_score(ridge, X, y, scoring='neg_mean_squared_error', cv=5)\n",
    "    avg_rmse = np.mean(np.sqrt(-1*neg_mse_scores))\n",
    "    print('alpha {0}일 때 5 folds의 평균 RMSE: {1:.3f}'.format(alpha,avg_rmse))\n",
    "    \n",
    "#alpha = 1일때 모델 성능이 가장 좋음"
   ]
  },
  {
   "cell_type": "markdown",
   "metadata": {
    "id": "LpPsOGdcm5ch"
   },
   "source": [
    "## 4) XGBRegressor을 이용한 모델링\n",
    ": XGBRegressor 모델을 이용하여 전복의 나이를 예측해 보고 결과를 평가해 보세요."
   ]
  },
  {
   "cell_type": "markdown",
   "metadata": {
    "id": "mUIF11POny1k"
   },
   "source": [
    "4-1) XGBRegressor 훈련, 평가에 필요한 모듈을 불러오세요."
   ]
  },
  {
   "cell_type": "code",
   "execution_count": 41,
   "metadata": {
    "id": "0tB7r-_HnJen"
   },
   "outputs": [],
   "source": [
    "# 필요한 모듈 임포트\n",
    "from xgboost import XGBRegressor"
   ]
  },
  {
   "cell_type": "markdown",
   "metadata": {
    "id": "_Gl2TyADoC2S"
   },
   "source": [
    "4-2) XGBregressor 모델을 생성하고 훈련하여 MSE와 RMSE를 구하세요."
   ]
  },
  {
   "cell_type": "code",
   "execution_count": 42,
   "metadata": {
    "id": "KM5wcdkuoFk2"
   },
   "outputs": [
    {
     "name": "stdout",
     "output_type": "stream",
     "text": [
      "예측값:\n",
      " [15.09855   9.048682  9.461182 ...  8.653307 15.381203 13.301295]\n",
      "MSE: 5.519402365227544\n",
      "RMSE: 2.349340836325701\n"
     ]
    }
   ],
   "source": [
    "#모델 생성 및 훈련\n",
    "xgb_reg = XGBRegressor(n_estimators=1000)\n",
    "xgb_reg.fit(X_train, y_train)\n",
    "\n",
    "#예측값 구하기\n",
    "y_preds = xgb_reg.predict(X_test)\n",
    "print('예측값:\\n',y_preds)\n",
    "\n",
    "#MSE와 RMSE 구하기\n",
    "mse_scores = mean_squared_error(y_test, y_preds)\n",
    "rmse_scores = np.sqrt(mse_scores)\n",
    "print('MSE:',mse_scores)\n",
    "print('RMSE:',rmse_scores)"
   ]
  },
  {
   "cell_type": "markdown",
   "metadata": {
    "id": "7fp_617QpGIK"
   },
   "source": [
    "# **2. 로지스틱 회귀분석**\n",
    "load_wine() 함수를 이용하여 와인 데이터를 다항분류하는 로지스틱 회귀모델을 생성하세요. "
   ]
  },
  {
   "cell_type": "code",
   "execution_count": 43,
   "metadata": {
    "id": "0s6eNftxpOku"
   },
   "outputs": [],
   "source": [
    "# 필요한 모듈 불러오기\n",
    "from sklearn.datasets import load_wine\n",
    "from sklearn.model_selection import train_test_split\n",
    "from sklearn.linear_model import LogisticRegression\n",
    "from sklearn import metrics"
   ]
  },
  {
   "cell_type": "markdown",
   "metadata": {
    "id": "COFC2gmIpWv8"
   },
   "source": [
    "# 1) 데이터 불러오기 및 변수 선택"
   ]
  },
  {
   "cell_type": "code",
   "execution_count": 44,
   "metadata": {
    "id": "oyGjyyGWpgOn"
   },
   "outputs": [],
   "source": [
    "wine = load_wine()\n",
    "\n",
    "wine_x = wine.data # x변수 \n",
    "wine_y = wine.target # y변수"
   ]
  },
  {
   "cell_type": "markdown",
   "metadata": {
    "id": "wwppN1b-pjAq"
   },
   "source": [
    "# 2) train/test 셋 분리"
   ]
  },
  {
   "cell_type": "code",
   "execution_count": 45,
   "metadata": {
    "id": "WG0_2HQUpiVQ"
   },
   "outputs": [
    {
     "name": "stdout",
     "output_type": "stream",
     "text": [
      "(124, 13)\n",
      "(124,)\n"
     ]
    }
   ],
   "source": [
    "x_train, x_test, y_train, y_test = train_test_split(wine_x, wine_y, test_size=0.3, random_state=123)\n",
    "\n",
    "print(x_train.shape)\n",
    "print(y_train.shape)"
   ]
  },
  {
   "cell_type": "markdown",
   "metadata": {
    "id": "at-bYN42rsUK"
   },
   "source": [
    "# 3) 로지스틱 회귀모델을 이용한 모델링"
   ]
  },
  {
   "cell_type": "markdown",
   "metadata": {
    "id": "zd0Lf4Ejr_WQ"
   },
   "source": [
    "3-1) 로지스틱 회귀모델을 생성하여 훈련하세요."
   ]
  },
  {
   "cell_type": "code",
   "execution_count": 46,
   "metadata": {
    "id": "5kaHD1nJpo9c"
   },
   "outputs": [
    {
     "data": {
      "text/plain": [
       "LogisticRegression()"
      ]
     },
     "execution_count": 46,
     "metadata": {},
     "output_type": "execute_result"
    }
   ],
   "source": [
    "lr_clf = LogisticRegression()\n",
    "lr_clf.fit(x_train, y_train)"
   ]
  },
  {
   "cell_type": "markdown",
   "metadata": {
    "id": "5icNrKefsR8A"
   },
   "source": [
    "3-2) 회귀 모델의 기울기와 절편을 구하세요."
   ]
  },
  {
   "cell_type": "code",
   "execution_count": 47,
   "metadata": {
    "id": "fReIKxgLsU0_"
   },
   "outputs": [
    {
     "data": {
      "text/plain": [
       "array([[-1.99751148e-01,  3.65450484e-01,  1.49472084e-01,\n",
       "        -1.88027143e-01, -2.28495768e-02,  1.95456450e-01,\n",
       "         4.66701183e-01, -1.66796636e-02,  8.23896950e-02,\n",
       "         6.75011281e-02, -1.92621831e-02,  2.94915697e-01,\n",
       "         7.42524246e-03],\n",
       "       [ 5.96475749e-01, -7.88672439e-01, -1.26181403e-01,\n",
       "         2.12254680e-01, -1.13504883e-02,  3.15785856e-01,\n",
       "         3.55147912e-01,  3.34675538e-02,  2.79035621e-01,\n",
       "        -1.17202452e+00,  2.61165632e-01,  4.64731464e-01,\n",
       "        -8.33633086e-03],\n",
       "       [-3.96724601e-01,  4.23221955e-01, -2.32906814e-02,\n",
       "        -2.42275362e-02,  3.42000651e-02, -5.11242306e-01,\n",
       "        -8.21849096e-01, -1.67878903e-02, -3.61425316e-01,\n",
       "         1.10452339e+00, -2.41903449e-01, -7.59647160e-01,\n",
       "         9.11088405e-04]])"
      ]
     },
     "execution_count": 47,
     "metadata": {},
     "output_type": "execute_result"
    }
   ],
   "source": [
    "#기울기\n",
    "lr_clf.coef_"
   ]
  },
  {
   "cell_type": "code",
   "execution_count": 48,
   "metadata": {
    "id": "tbWm0jEnsbdJ"
   },
   "outputs": [
    {
     "data": {
      "text/plain": [
       "array([-0.04177837,  0.09551045, -0.05373208])"
      ]
     },
     "execution_count": 48,
     "metadata": {},
     "output_type": "execute_result"
    }
   ],
   "source": [
    "#절편\n",
    "lr_clf.intercept_"
   ]
  },
  {
   "cell_type": "markdown",
   "metadata": {
    "id": "Bq9ocTsystff"
   },
   "source": [
    "3-3) 모델의 정확도를 구하세요."
   ]
  },
  {
   "cell_type": "code",
   "execution_count": 49,
   "metadata": {
    "id": "nQcUKZyOsy3J"
   },
   "outputs": [
    {
     "name": "stdout",
     "output_type": "stream",
     "text": [
      "예측값:\n",
      " [2 1 2 1 1 2 0 2 2 1 2 2 2 0 0 2 1 1 0 1 2 2 2 2 1 2 2 1 0 0 0 0 2 1 2 1 1\n",
      " 0 1 1 2 2 0 0 1 0 0 1 1 1 1 2 2 1]\n",
      "accuracy: 0.963\n"
     ]
    }
   ],
   "source": [
    "from sklearn.metrics import accuracy_score\n",
    "\n",
    "#모델의 예측값 구하기\n",
    "y_preds = lr_clf.predict(x_test)\n",
    "print('예측값:\\n',y_preds)\n",
    "\n",
    "#모델의 정확도 구하기\n",
    "print('accuracy: {0:.3f}'.format(accuracy_score(y_test, y_preds)))"
   ]
  }
 ],
 "metadata": {
  "colab": {
   "collapsed_sections": [],
   "name": "회귀2.ipynb",
   "provenance": []
  },
  "kernelspec": {
   "display_name": "Python 3",
   "language": "python",
   "name": "python3"
  },
  "language_info": {
   "codemirror_mode": {
    "name": "ipython",
    "version": 3
   },
   "file_extension": ".py",
   "mimetype": "text/x-python",
   "name": "python",
   "nbconvert_exporter": "python",
   "pygments_lexer": "ipython3",
   "version": "3.8.5"
  }
 },
 "nbformat": 4,
 "nbformat_minor": 1
}
