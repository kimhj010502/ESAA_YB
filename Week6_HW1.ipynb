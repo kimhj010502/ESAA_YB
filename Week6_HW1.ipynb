{
 "cells": [
  {
   "cell_type": "markdown",
   "metadata": {},
   "source": [
    "# 12 시계열 데이터 <br>\n",
    "## 12-1 datetime 오브젝트 <br>\n",
    "- datetime 라이브러리: 날짜와 시간을 처리하는 등의 다양한 기능을 제공하는 파이썬 라이브러리\n",
    "    - date 오브젝트: 날짜 처리\n",
    "    - time 오브젝트: 시간 처리\n",
    "    - datetime 오브젝트: 날짜와 시간 모두 처리"
   ]
  },
  {
   "cell_type": "code",
   "execution_count": 42,
   "metadata": {},
   "outputs": [],
   "source": [
    "from datetime import datetime"
   ]
  },
  {
   "cell_type": "code",
   "execution_count": 43,
   "metadata": {},
   "outputs": [
    {
     "name": "stdout",
     "output_type": "stream",
     "text": [
      "2022-04-10 16:10:45.631036\n"
     ]
    }
   ],
   "source": [
    "now1 = datetime.now()\n",
    "print(now1)"
   ]
  },
  {
   "cell_type": "code",
   "execution_count": 44,
   "metadata": {},
   "outputs": [
    {
     "name": "stdout",
     "output_type": "stream",
     "text": [
      "2022-04-10 16:10:46.450253\n"
     ]
    }
   ],
   "source": [
    "now2 = datetime.today()\n",
    "print(now2)"
   ]
  },
  {
   "cell_type": "code",
   "execution_count": 45,
   "metadata": {},
   "outputs": [
    {
     "name": "stdout",
     "output_type": "stream",
     "text": [
      "2022-04-10 16:10:47.103360\n",
      "1970-01-01 00:00:00\n",
      "1970-12-12 13:24:34\n"
     ]
    }
   ],
   "source": [
    "t1 = datetime.now()\n",
    "t2 = datetime(1970,1,1) #연,월,일\n",
    "t3 = datetime(1970,12,12,13,24,34) #연,월,일,시,분,초\n",
    "\n",
    "print(t1)\n",
    "print(t2)\n",
    "print(t3)"
   ]
  },
  {
   "cell_type": "code",
   "execution_count": 46,
   "metadata": {},
   "outputs": [
    {
     "name": "stdout",
     "output_type": "stream",
     "text": [
      "19092 days, 16:10:47.103360\n",
      "<class 'datetime.timedelta'>\n"
     ]
    }
   ],
   "source": [
    "#두 datetime 오브젝트의 차이\n",
    "diff1 = t1 - t2\n",
    "\n",
    "print(diff1)\n",
    "print(type(diff1))"
   ]
  },
  {
   "cell_type": "code",
   "execution_count": 47,
   "metadata": {},
   "outputs": [
    {
     "name": "stdout",
     "output_type": "stream",
     "text": [
      "-19093 days, 7:49:12.896640\n",
      "<class 'datetime.timedelta'>\n"
     ]
    }
   ],
   "source": [
    "diff2 = t2 - t1\n",
    "\n",
    "print(diff2)\n",
    "print(type(diff2))"
   ]
  },
  {
   "cell_type": "markdown",
   "metadata": {},
   "source": [
    "## 12-2 사례별 시계열 데이터 계산하기 <br>\n",
    "### [테슬라 주식 데이터로 시간 계산하기]"
   ]
  },
  {
   "cell_type": "code",
   "execution_count": 48,
   "metadata": {},
   "outputs": [],
   "source": [
    "import pandas as pd\n",
    "\n",
    "pd.core.common.is_list_like = pd.api.types.is_list_like\n",
    "import pandas_datareader as pdr\n",
    "\n",
    "#tesla에 데이터프레임 저장\n",
    "tesla = pdr.get_data_quandl('TSLA',api_key='3DAseNaG6gpy94hY576g')\n",
    "\n",
    "#tesla에 저장된 데이터프레임을 파일로 저장\n",
    "tesla.to_csv('C:/Users/kimhj/Desktop/ESAA/Data/tesla_stock_quandl.csv')"
   ]
  },
  {
   "cell_type": "code",
   "execution_count": 49,
   "metadata": {},
   "outputs": [
    {
     "name": "stdout",
     "output_type": "stream",
     "text": [
      "              Open    High     Low   Close      Volume  ExDividend  \\\n",
      "Date                                                                 \n",
      "2018-03-27  304.00  304.27  277.18  279.18  13696168.0         0.0   \n",
      "2018-03-26  307.34  307.59  291.36  304.18   8324639.0         0.0   \n",
      "2018-03-23  311.25  311.61  300.45  301.54   6600538.0         0.0   \n",
      "2018-03-22  313.89  318.82  308.18  309.10   4914307.0         0.0   \n",
      "2018-03-21  310.25  322.44  310.19  316.53   5927881.0         0.0   \n",
      "\n",
      "            SplitRatio  AdjOpen  AdjHigh  AdjLow  AdjClose   AdjVolume  \n",
      "Date                                                                    \n",
      "2018-03-27         1.0   304.00   304.27  277.18    279.18  13696168.0  \n",
      "2018-03-26         1.0   307.34   307.59  291.36    304.18   8324639.0  \n",
      "2018-03-23         1.0   311.25   311.61  300.45    301.54   6600538.0  \n",
      "2018-03-22         1.0   313.89   318.82  308.18    309.10   4914307.0  \n",
      "2018-03-21         1.0   310.25   322.44  310.19    316.53   5927881.0  \n"
     ]
    }
   ],
   "source": [
    "print(tesla.head()) #Date열이 문자열로 저장되어 있음"
   ]
  },
  {
   "cell_type": "code",
   "execution_count": 50,
   "metadata": {},
   "outputs": [
    {
     "name": "stdout",
     "output_type": "stream",
     "text": [
      "<class 'pandas.core.frame.DataFrame'>\n",
      "RangeIndex: 241 entries, 0 to 240\n",
      "Data columns (total 13 columns):\n",
      " #   Column      Non-Null Count  Dtype         \n",
      "---  ------      --------------  -----         \n",
      " 0   Date        241 non-null    datetime64[ns]\n",
      " 1   Open        241 non-null    float64       \n",
      " 2   High        241 non-null    float64       \n",
      " 3   Low         241 non-null    float64       \n",
      " 4   Close       241 non-null    float64       \n",
      " 5   Volume      241 non-null    float64       \n",
      " 6   ExDividend  241 non-null    float64       \n",
      " 7   SplitRatio  241 non-null    float64       \n",
      " 8   AdjOpen     241 non-null    float64       \n",
      " 9   AdjHigh     241 non-null    float64       \n",
      " 10  AdjLow      241 non-null    float64       \n",
      " 11  AdjClose    241 non-null    float64       \n",
      " 12  AdjVolume   241 non-null    float64       \n",
      "dtypes: datetime64[ns](1), float64(12)\n",
      "memory usage: 24.6 KB\n",
      "None\n"
     ]
    }
   ],
   "source": [
    "#parse_dates 인자에 Date열 전달하여 Date열을 Datetime형으로 변환\n",
    "tesla = pd.read_csv('C:/Users/kimhj/Desktop/ESAA/Data/tesla_stock_quandl.csv',parse_dates=[0])\n",
    "print(tesla.info())"
   ]
  },
  {
   "cell_type": "code",
   "execution_count": 51,
   "metadata": {},
   "outputs": [
    {
     "name": "stdout",
     "output_type": "stream",
     "text": [
      "          Date     Open      High       Low   Close      Volume  ExDividend  \\\n",
      "184 2017-06-30  363.710  366.7674  359.6187  361.61   5759458.0         0.0   \n",
      "185 2017-06-29  370.610  371.0000  354.1000  360.75   8180408.0         0.0   \n",
      "186 2017-06-28  366.680  371.7400  362.5200  371.24   6245040.0         0.0   \n",
      "187 2017-06-27  376.400  376.4000  362.0200  362.37   6884529.0         0.0   \n",
      "188 2017-06-26  386.690  386.9500  373.1000  377.49   6575285.0         0.0   \n",
      "189 2017-06-23  382.450  386.9900  379.3450  383.45   6176578.0         0.0   \n",
      "190 2017-06-22  377.990  385.0000  373.5700  382.61   7485677.0         0.0   \n",
      "191 2017-06-21  374.350  376.9900  368.0200  376.40   4900356.0         0.0   \n",
      "192 2017-06-20  376.670  378.8800  369.7300  372.24   7396357.0         0.0   \n",
      "193 2017-06-19  375.000  376.7000  367.8000  369.80   6392331.0         0.0   \n",
      "194 2017-06-16  377.975  378.0100  370.1000  371.40   6259666.0         0.0   \n",
      "195 2017-06-15  372.500  375.4600  366.4900  375.34  10371559.0         0.0   \n",
      "196 2017-06-14  381.085  384.2500  376.3100  380.66  12731997.0         0.0   \n",
      "197 2017-06-13  367.620  376.0000  366.6100  375.95  11693404.0         0.0   \n",
      "198 2017-06-12  357.990  364.5000  350.6200  359.01  10476833.0         0.0   \n",
      "199 2017-06-09  374.420  376.8700  354.8000  357.32  17160231.0         0.0   \n",
      "200 2017-06-08  363.750  371.9000  360.2200  370.00   8975028.0         0.0   \n",
      "201 2017-06-07  356.340  360.5000  355.1400  359.65   9287888.0         0.0   \n",
      "202 2017-06-06  344.700  359.4929  339.9700  352.85  10951473.0         0.0   \n",
      "203 2017-06-05  338.500  348.4400  334.2100  347.32   6737855.0         0.0   \n",
      "204 2017-06-02  339.770  342.8800  335.9300  339.85   5570256.0         0.0   \n",
      "205 2017-06-01  344.000  344.8800  337.2900  340.37   7580447.0         0.0   \n",
      "\n",
      "     SplitRatio  AdjOpen   AdjHigh    AdjLow  AdjClose   AdjVolume  \n",
      "184         1.0  363.710  366.7674  359.6187    361.61   5759458.0  \n",
      "185         1.0  370.610  371.0000  354.1000    360.75   8180408.0  \n",
      "186         1.0  366.680  371.7400  362.5200    371.24   6245040.0  \n",
      "187         1.0  376.400  376.4000  362.0200    362.37   6884529.0  \n",
      "188         1.0  386.690  386.9500  373.1000    377.49   6575285.0  \n",
      "189         1.0  382.450  386.9900  379.3450    383.45   6176578.0  \n",
      "190         1.0  377.990  385.0000  373.5700    382.61   7485677.0  \n",
      "191         1.0  374.350  376.9900  368.0200    376.40   4900356.0  \n",
      "192         1.0  376.670  378.8800  369.7300    372.24   7396357.0  \n",
      "193         1.0  375.000  376.7000  367.8000    369.80   6392331.0  \n",
      "194         1.0  377.975  378.0100  370.1000    371.40   6259666.0  \n",
      "195         1.0  372.500  375.4600  366.4900    375.34  10371559.0  \n",
      "196         1.0  381.085  384.2500  376.3100    380.66  12731997.0  \n",
      "197         1.0  367.620  376.0000  366.6100    375.95  11693404.0  \n",
      "198         1.0  357.990  364.5000  350.6200    359.01  10476833.0  \n",
      "199         1.0  374.420  376.8700  354.8000    357.32  17160231.0  \n",
      "200         1.0  363.750  371.9000  360.2200    370.00   8975028.0  \n",
      "201         1.0  356.340  360.5000  355.1400    359.65   9287888.0  \n",
      "202         1.0  344.700  359.4929  339.9700    352.85  10951473.0  \n",
      "203         1.0  338.500  348.4400  334.2100    347.32   6737855.0  \n",
      "204         1.0  339.770  342.8800  335.9300    339.85   5570256.0  \n",
      "205         1.0  344.000  344.8800  337.2900    340.37   7580447.0  \n"
     ]
    }
   ],
   "source": [
    "#2017년 6월 데이터만 추출\n",
    "print(tesla.loc[(tesla.Date.dt.year == 2017) & (tesla.Date.dt.month == 6)])"
   ]
  },
  {
   "cell_type": "markdown",
   "metadata": {},
   "source": [
    "### [datetime 오브젝트와 인덱스 - DatetimeIndex]"
   ]
  },
  {
   "cell_type": "code",
   "execution_count": 52,
   "metadata": {},
   "outputs": [
    {
     "name": "stdout",
     "output_type": "stream",
     "text": [
      "DatetimeIndex(['2018-03-27', '2018-03-26', '2018-03-23', '2018-03-22',\n",
      "               '2018-03-21', '2018-03-20', '2018-03-19', '2018-03-16',\n",
      "               '2018-03-15', '2018-03-14',\n",
      "               ...\n",
      "               '2017-04-25', '2017-04-24', '2017-04-21', '2017-04-20',\n",
      "               '2017-04-19', '2017-04-18', '2017-04-17', '2017-04-13',\n",
      "               '2017-04-12', '2017-04-11'],\n",
      "              dtype='datetime64[ns]', name='Date', length=241, freq=None)\n"
     ]
    }
   ],
   "source": [
    "#Date열을 tesla 데이터프레임의 인덱스로 지정\n",
    "tesla.index = tesla['Date']\n",
    "print(tesla.index)"
   ]
  },
  {
   "cell_type": "code",
   "execution_count": 57,
   "metadata": {},
   "outputs": [
    {
     "name": "stdout",
     "output_type": "stream",
     "text": [
      "                 Date    Open      High     Low   Close\n",
      "Date                                                   \n",
      "2017-12-29 2017-12-29  316.18  316.4100  310.00  311.35\n",
      "2017-12-28 2017-12-28  311.75  315.8200  309.54  315.36\n",
      "2017-12-27 2017-12-27  316.00  317.6800  310.75  311.64\n",
      "2017-12-26 2017-12-26  323.83  323.9400  316.58  317.29\n",
      "2017-12-22 2017-12-22  329.51  330.9214  324.82  325.20\n"
     ]
    }
   ],
   "source": [
    "print(tesla.loc['2017'].iloc[:5,:5])"
   ]
  },
  {
   "cell_type": "code",
   "execution_count": 58,
   "metadata": {},
   "outputs": [
    {
     "name": "stdout",
     "output_type": "stream",
     "text": [
      "                 Date     Open      High       Low   Close\n",
      "Date                                                      \n",
      "2017-06-30 2017-06-30  363.710  366.7674  359.6187  361.61\n",
      "2017-06-29 2017-06-29  370.610  371.0000  354.1000  360.75\n",
      "2017-06-28 2017-06-28  366.680  371.7400  362.5200  371.24\n",
      "2017-06-27 2017-06-27  376.400  376.4000  362.0200  362.37\n",
      "2017-06-26 2017-06-26  386.690  386.9500  373.1000  377.49\n",
      "2017-06-23 2017-06-23  382.450  386.9900  379.3450  383.45\n",
      "2017-06-22 2017-06-22  377.990  385.0000  373.5700  382.61\n",
      "2017-06-21 2017-06-21  374.350  376.9900  368.0200  376.40\n",
      "2017-06-20 2017-06-20  376.670  378.8800  369.7300  372.24\n",
      "2017-06-19 2017-06-19  375.000  376.7000  367.8000  369.80\n",
      "2017-06-16 2017-06-16  377.975  378.0100  370.1000  371.40\n",
      "2017-06-15 2017-06-15  372.500  375.4600  366.4900  375.34\n",
      "2017-06-14 2017-06-14  381.085  384.2500  376.3100  380.66\n",
      "2017-06-13 2017-06-13  367.620  376.0000  366.6100  375.95\n",
      "2017-06-12 2017-06-12  357.990  364.5000  350.6200  359.01\n",
      "2017-06-09 2017-06-09  374.420  376.8700  354.8000  357.32\n",
      "2017-06-08 2017-06-08  363.750  371.9000  360.2200  370.00\n",
      "2017-06-07 2017-06-07  356.340  360.5000  355.1400  359.65\n",
      "2017-06-06 2017-06-06  344.700  359.4929  339.9700  352.85\n",
      "2017-06-05 2017-06-05  338.500  348.4400  334.2100  347.32\n",
      "2017-06-02 2017-06-02  339.770  342.8800  335.9300  339.85\n",
      "2017-06-01 2017-06-01  344.000  344.8800  337.2900  340.37\n"
     ]
    }
   ],
   "source": [
    "print(tesla.loc['2017-06'].iloc[:,:5])"
   ]
  },
  {
   "cell_type": "markdown",
   "metadata": {},
   "source": [
    "### [시간 간격과 인덱스 - TimedeltaIndex]"
   ]
  },
  {
   "cell_type": "code",
   "execution_count": 59,
   "metadata": {},
   "outputs": [
    {
     "name": "stdout",
     "output_type": "stream",
     "text": [
      "                 Date    Open    High     Low   Close      Volume  ExDividend  \\\n",
      "Date                                                                            \n",
      "2018-03-27 2018-03-27  304.00  304.27  277.18  279.18  13696168.0         0.0   \n",
      "2018-03-26 2018-03-26  307.34  307.59  291.36  304.18   8324639.0         0.0   \n",
      "2018-03-23 2018-03-23  311.25  311.61  300.45  301.54   6600538.0         0.0   \n",
      "2018-03-22 2018-03-22  313.89  318.82  308.18  309.10   4914307.0         0.0   \n",
      "2018-03-21 2018-03-21  310.25  322.44  310.19  316.53   5927881.0         0.0   \n",
      "\n",
      "            SplitRatio  AdjOpen  AdjHigh  AdjLow  AdjClose   AdjVolume  \\\n",
      "Date                                                                     \n",
      "2018-03-27         1.0   304.00   304.27  277.18    279.18  13696168.0   \n",
      "2018-03-26         1.0   307.34   307.59  291.36    304.18   8324639.0   \n",
      "2018-03-23         1.0   311.25   311.61  300.45    301.54   6600538.0   \n",
      "2018-03-22         1.0   313.89   318.82  308.18    309.10   4914307.0   \n",
      "2018-03-21         1.0   310.25   322.44  310.19    316.53   5927881.0   \n",
      "\n",
      "           ref_date  \n",
      "Date                 \n",
      "2018-03-27 350 days  \n",
      "2018-03-26 349 days  \n",
      "2018-03-23 346 days  \n",
      "2018-03-22 345 days  \n",
      "2018-03-21 344 days  \n"
     ]
    }
   ],
   "source": [
    "#Date열에서 Date열의 최솟값을 빼서 데이터를 수집한 이후에 시간이 얼마나 흘렀는지 확인\n",
    "tesla['ref_date'] = tesla['Date'] - tesla['Date'].min()\n",
    "print(tesla.head())"
   ]
  },
  {
   "cell_type": "code",
   "execution_count": 60,
   "metadata": {},
   "outputs": [
    {
     "name": "stdout",
     "output_type": "stream",
     "text": [
      "               Date    Open    High     Low   Close\n",
      "ref_date                                           \n",
      "350 days 2018-03-27  304.00  304.27  277.18  279.18\n",
      "349 days 2018-03-26  307.34  307.59  291.36  304.18\n",
      "346 days 2018-03-23  311.25  311.61  300.45  301.54\n",
      "345 days 2018-03-22  313.89  318.82  308.18  309.10\n",
      "344 days 2018-03-21  310.25  322.44  310.19  316.53\n"
     ]
    }
   ],
   "source": [
    "tesla.index = tesla['ref_date']\n",
    "print(tesla.iloc[:5,:5])"
   ]
  },
  {
   "cell_type": "code",
   "execution_count": 61,
   "metadata": {},
   "outputs": [
    {
     "name": "stdout",
     "output_type": "stream",
     "text": [
      "               Date    Open      High     Low   Close\n",
      "ref_date                                             \n",
      "2 days   2017-04-13  296.70  307.3900  295.30  304.00\n",
      "1 days   2017-04-12  306.34  308.4481  296.32  296.84\n",
      "0 days   2017-04-11  313.38  313.4700  305.50  308.71\n"
     ]
    }
   ],
   "source": [
    "print(tesla['5 days':].iloc[:5,:5])"
   ]
  },
  {
   "cell_type": "markdown",
   "metadata": {},
   "source": [
    "### [시간 범위와 인덱스]"
   ]
  },
  {
   "cell_type": "code",
   "execution_count": 63,
   "metadata": {},
   "outputs": [
    {
     "name": "stdout",
     "output_type": "stream",
     "text": [
      "        Date  Day  Cases_Guinea  Cases_Liberia  Cases_SierraLeone\n",
      "0 2015-01-05  289        2776.0            NaN            10030.0\n",
      "1 2015-01-04  288        2775.0            NaN             9780.0\n",
      "2 2015-01-03  287        2769.0         8166.0             9722.0\n",
      "3 2015-01-02  286           NaN         8157.0                NaN\n",
      "4 2014-12-31  284        2730.0         8115.0             9633.0\n"
     ]
    }
   ],
   "source": [
    "ebola = pd.read_csv('C:/Users/kimhj/Desktop/ESAA/Data/country_timeseries.csv',parse_dates=[0])\n",
    "print(ebola.iloc[:5,:5])"
   ]
  },
  {
   "cell_type": "code",
   "execution_count": 64,
   "metadata": {},
   "outputs": [
    {
     "name": "stdout",
     "output_type": "stream",
     "text": [
      "          Date  Day  Cases_Guinea  Cases_Liberia  Cases_SierraLeone\n",
      "117 2014-03-27    5         103.0            8.0                6.0\n",
      "118 2014-03-26    4          86.0            NaN                NaN\n",
      "119 2014-03-25    3          86.0            NaN                NaN\n",
      "120 2014-03-24    2          86.0            NaN                NaN\n",
      "121 2014-03-22    0          49.0            NaN                NaN\n"
     ]
    }
   ],
   "source": [
    "print(ebola.iloc[-5:,:5])"
   ]
  },
  {
   "cell_type": "code",
   "execution_count": 67,
   "metadata": {},
   "outputs": [
    {
     "name": "stdout",
     "output_type": "stream",
     "text": [
      "DatetimeIndex(['2014-12-31', '2015-01-01', '2015-01-02', '2015-01-03',\n",
      "               '2015-01-04', '2015-01-05'],\n",
      "              dtype='datetime64[ns]', freq='D')\n"
     ]
    }
   ],
   "source": [
    "#date_range 메소드를 사용하여 2014년 12월 31일부터 2015년 01월 05일 사이의 시간 인덱스(DatetimeIndex) 생성\n",
    "head_range = pd.date_range(start='2014-12-31',end='2015-01-05')\n",
    "print(head_range)"
   ]
  },
  {
   "cell_type": "code",
   "execution_count": 69,
   "metadata": {},
   "outputs": [
    {
     "name": "stdout",
     "output_type": "stream",
     "text": [
      "                 Date  Day  Cases_Guinea  Cases_Liberia  Cases_SierraLeone\n",
      "Date                                                                      \n",
      "2015-01-05 2015-01-05  289        2776.0            NaN            10030.0\n",
      "2015-01-04 2015-01-04  288        2775.0            NaN             9780.0\n",
      "2015-01-03 2015-01-03  287        2769.0         8166.0             9722.0\n",
      "2015-01-02 2015-01-02  286           NaN         8157.0                NaN\n",
      "2014-12-31 2014-12-31  284        2730.0         8115.0             9633.0\n"
     ]
    }
   ],
   "source": [
    "ebola_5 = ebola.head()\n",
    "ebola_5.index = ebola_5['Date'] #Date열을 인덱스로 지정\n",
    "ebola_5.reindex(head_range) #위에서 생성한 시간 범위를 인덱스로 재지정\n",
    "print(ebola_5.iloc[:5,:5])"
   ]
  },
  {
   "cell_type": "markdown",
   "metadata": {},
   "source": [
    "### [시간 범위의 주기 설정하기] <br>\n",
    "- freq 속성값으로 사용할 수 있는 시간 주기\n",
    "    - `B`: 평일만 포함\n",
    "    - `C`: 사용자가 정의한 평일만 포함\n",
    "    - `D`: 달력 일자 단위\n",
    "    - `W`: 주간 단위\n",
    "    - `M`: 월 마지막 날만 포함\n",
    "    - `SM`: 15일과 월 마지막 날만 포함\n",
    "    - `BM`: M 주기의 값이 휴일이면 제외하고 평일만 포함\n",
    "    - `CBM`: BM에 사용자 정의 평일을 적용\n",
    "    - `MS`: 월 시작일만 포함\n",
    "    - `SMS`: 월 시작일과 15일만 포함\n",
    "    - `BMS`: MS 주기의 값이 휴일이면 제외하고 평일만 포함\n",
    "    - `CBMS`: MBS에 사용자 정의 평일을 적용\n",
    "    - `Q`: 3,6,9,12월 분기 마지막 날만 포함\n",
    "    - `BQ`: 3,6,9,12월 분기 마지막 날이 휴일이면 제외하고 평일만 포함\n",
    "    - `QS`: 3,6,9,12월 분기 시작일만 포함\n",
    "    - `BQS`: 3,6,9,12월 분기 시작일이 휴일이면 제외하고 평일만 포함\n",
    "    - `A`: 년의 마지막 날만 포함\n",
    "    - `BA`: 년의 마지막 날이 휴일이면 제외하고 평일만 포함\n",
    "    - `AS`: 년의 시작일만 포함\n",
    "    - `BAS`: 년의 시작일이 휴일이면 제외하고 평일만 포함\n",
    "    - `BH`: 평일을 시간 단위로 포함 (09:00 ~ 16:00)\n",
    "    - `H`: 시간 단위로 포함 (00:00 ~ 00:00)\n",
    "    - `T`: 분 단위 포함\n",
    "    - `S`: 초 단위 포함\n",
    "    - `L`: 밀리초 단위 포함\n",
    "    - `U`: 마이크로초 단위 포함\n",
    "    - `N`: 나노초 단위 포함"
   ]
  }
 ],
 "metadata": {
  "kernelspec": {
   "display_name": "Python 3",
   "language": "python",
   "name": "python3"
  },
  "language_info": {
   "codemirror_mode": {
    "name": "ipython",
    "version": 3
   },
   "file_extension": ".py",
   "mimetype": "text/x-python",
   "name": "python",
   "nbconvert_exporter": "python",
   "pygments_lexer": "ipython3",
   "version": "3.8.5"
  }
 },
 "nbformat": 4,
 "nbformat_minor": 4
}
